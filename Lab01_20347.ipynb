{
  "nbformat": 4,
  "nbformat_minor": 0,
  "metadata": {
    "colab": {
      "provenance": [],
      "include_colab_link": true
    },
    "kernelspec": {
      "name": "python3",
      "display_name": "Python 3"
    },
    "language_info": {
      "name": "python"
    }
  },
  "cells": [
    {
      "cell_type": "markdown",
      "metadata": {
        "id": "view-in-github",
        "colab_type": "text"
      },
      "source": [
        "<a href=\"https://colab.research.google.com/github/M-Hasssan/AutoReply-Chat-JS/blob/main/Lab01_20347.ipynb\" target=\"_parent\"><img src=\"https://colab.research.google.com/assets/colab-badge.svg\" alt=\"Open In Colab\"/></a>"
      ]
    },
    {
      "cell_type": "code",
      "execution_count": 1,
      "metadata": {
        "colab": {
          "base_uri": "https://localhost:8080/"
        },
        "id": "ruUnlEARSxUH",
        "outputId": "9f8411ab-d8b1-4444-d706-c73ac311244f"
      },
      "outputs": [
        {
          "output_type": "stream",
          "name": "stdout",
          "text": [
            "Introduction to Python\n"
          ]
        }
      ],
      "source": [
        "print('Introduction to Python')"
      ]
    },
    {
      "cell_type": "code",
      "source": [
        "firstName = 'Muhammad Hassan'\n",
        "lastName = 'Tariq'\n",
        "print(firstName + ' ' + lastName)"
      ],
      "metadata": {
        "id": "mm1LRgDoVtak",
        "colab": {
          "base_uri": "https://localhost:8080/"
        },
        "outputId": "a9b449b2-6f6f-4478-9115-5c90a8561385"
      },
      "execution_count": 4,
      "outputs": [
        {
          "output_type": "stream",
          "name": "stdout",
          "text": [
            "Muhammad Hassan Tariq\n"
          ]
        }
      ]
    },
    {
      "cell_type": "code",
      "source": [
        "a='Hello '\n",
        "b='World'\n",
        "print(a + b)"
      ],
      "metadata": {
        "colab": {
          "base_uri": "https://localhost:8080/"
        },
        "id": "o26111DhUeoG",
        "outputId": "1fa84439-2c84-4f75-c3a0-b6fa4f72920a"
      },
      "execution_count": null,
      "outputs": [
        {
          "output_type": "stream",
          "name": "stdout",
          "text": [
            "Hello World\n"
          ]
        }
      ]
    },
    {
      "cell_type": "code",
      "source": [
        "print(\"Arithmetic Operations\")\n",
        "\n",
        "a=5000\n",
        "b=1000\n",
        "print('Addition',a+b)\n",
        "print('Subtraction',a-b)\n",
        "print('Multiplication',a*b)\n",
        "print('Division',a/b)\n",
        "print('Modulus', a%b)"
      ],
      "metadata": {
        "colab": {
          "base_uri": "https://localhost:8080/"
        },
        "id": "z9rhrYy8WY-t",
        "outputId": "71a641c8-4e82-417d-db5e-cf8df055f185"
      },
      "execution_count": null,
      "outputs": [
        {
          "output_type": "stream",
          "name": "stdout",
          "text": [
            "Arithmetic Operations\n",
            "Addition 6000\n",
            "Subtraction 4000\n",
            "Multiplication 5000000\n",
            "Division 5.0\n",
            "Modulus 0\n"
          ]
        }
      ]
    },
    {
      "cell_type": "markdown",
      "source": [
        "**Nested For Loop List**"
      ],
      "metadata": {
        "id": "cVVvnfxrZxSW"
      }
    },
    {
      "cell_type": "code",
      "source": [
        "fruits = [\"apple\",\"banana\",\"orange\"]\n",
        "for x in range(0,3):\n",
        "  print(x)\n",
        "  for i in fruits:\n",
        "    print(i)"
      ],
      "metadata": {
        "colab": {
          "base_uri": "https://localhost:8080/"
        },
        "id": "AD6J9wkgYGqE",
        "outputId": "0292409d-d7e4-4897-b93f-bcc0a7f19381"
      },
      "execution_count": null,
      "outputs": [
        {
          "output_type": "stream",
          "name": "stdout",
          "text": [
            "0\n",
            "apple\n",
            "banana\n",
            "orange\n",
            "1\n",
            "apple\n",
            "banana\n",
            "orange\n",
            "2\n",
            "apple\n",
            "banana\n",
            "orange\n"
          ]
        }
      ]
    },
    {
      "cell_type": "code",
      "source": [
        "for i in range(5):\n",
        "  print(i)\n",
        "  print('*')"
      ],
      "metadata": {
        "colab": {
          "base_uri": "https://localhost:8080/"
        },
        "id": "v2DV69Olae3e",
        "outputId": "75565e7e-700e-4126-ce25-4d4958e66048"
      },
      "execution_count": null,
      "outputs": [
        {
          "output_type": "stream",
          "name": "stdout",
          "text": [
            "0\n",
            "*\n",
            "1\n",
            "*\n",
            "2\n",
            "*\n",
            "3\n",
            "*\n",
            "4\n",
            "*\n"
          ]
        }
      ]
    },
    {
      "cell_type": "code",
      "source": [],
      "metadata": {
        "id": "OuP4xMJtYvra"
      },
      "execution_count": null,
      "outputs": []
    }
  ]
}